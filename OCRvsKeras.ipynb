{
  "metadata": {
    "kernelspec": {
      "language": "python",
      "display_name": "Python 3",
      "name": "python3"
    },
    "language_info": {
      "pygments_lexer": "ipython3",
      "nbconvert_exporter": "python",
      "version": "3.6.4",
      "file_extension": ".py",
      "codemirror_mode": {
        "name": "ipython",
        "version": 3
      },
      "name": "python",
      "mimetype": "text/x-python"
    },
    "kaggle": {
      "accelerator": "gpu",
      "dataSources": [
        {
          "sourceId": 3919937,
          "sourceType": "datasetVersion",
          "datasetId": 2327240
        }
      ],
      "dockerImageVersionId": 30203,
      "isInternetEnabled": false,
      "language": "python",
      "sourceType": "notebook",
      "isGpuEnabled": true
    },
    "colab": {
      "name": "notebookff8579ac69",
      "provenance": [],
      "include_colab_link": true
    }
  },
  "nbformat_minor": 0,
  "nbformat": 4,
  "cells": [
    {
      "cell_type": "markdown",
      "metadata": {
        "id": "view-in-github",
        "colab_type": "text"
      },
      "source": [
        "<a href=\"https://colab.research.google.com/github/darko-k/MasterPy/blob/master/OCRvsKeras.ipynb\" target=\"_parent\"><img src=\"https://colab.research.google.com/assets/colab-badge.svg\" alt=\"Open In Colab\"/></a>"
      ]
    },
    {
      "source": [
        "# IMPORTANT: RUN THIS CELL IN ORDER TO IMPORT YOUR KAGGLE DATA SOURCES,\n",
        "# THEN FEEL FREE TO DELETE THIS CELL.\n",
        "# NOTE: THIS NOTEBOOK ENVIRONMENT DIFFERS FROM KAGGLE'S PYTHON\n",
        "# ENVIRONMENT SO THERE MAY BE MISSING LIBRARIES USED BY YOUR\n",
        "# NOTEBOOK.\n",
        "import kagglehub\n",
        "robikscube_textocr_text_extraction_from_images_dataset_path = kagglehub.dataset_download('robikscube/textocr-text-extraction-from-images-dataset')\n",
        "\n",
        "print('Data source import complete.')"
      ],
      "metadata": {
        "id": "1ND4TK5hl5Yx"
      },
      "cell_type": "code",
      "outputs": [],
      "execution_count": null
    },
    {
      "cell_type": "code",
      "source": [
        "# Extracting Text from Images in Python\n",
        "\n",
        "<img src=\"https://media.arxiv-vanity.com/render-output/6158804/images/fig_2_no_trademarks.png\" alt=\"text to images\" width=\"600\" height=\"600\">\n"
      ],
      "metadata": {
        "_uuid": "8f2839f25d086af736a60e9eeb907d3b93b6e0e5",
        "_cell_guid": "b1076dfc-b9ad-4769-8c92-a6c4dae69d19",
        "trusted": true,
        "id": "j52pzxlUl5Y1"
      },
      "outputs": [],
      "execution_count": null
    },
    {
      "cell_type": "code",
      "source": [
        "import pandas as pd\n",
        "import numpy as np\n",
        "\n",
        "from glob import glob\n",
        "from tqdm.notebook import tqdm\n",
        "\n",
        "import matplotlib.pyplot as plt\n",
        "from PIL import Image\n",
        "\n",
        "plt.style.use('ggplot')"
      ],
      "metadata": {
        "execution": {
          "iopub.status.busy": "2022-07-09T20:47:22.062731Z",
          "iopub.execute_input": "2022-07-09T20:47:22.063Z",
          "iopub.status.idle": "2022-07-09T20:47:22.073181Z",
          "shell.execute_reply.started": "2022-07-09T20:47:22.062964Z",
          "shell.execute_reply": "2022-07-09T20:47:22.072216Z"
        },
        "trusted": true,
        "id": "FKocQtGnl5Y2"
      },
      "outputs": [],
      "execution_count": null
    },
    {
      "cell_type": "markdown",
      "source": [
        "# Outline\n",
        "1. Take a look at the data\n",
        "2. Extract text from images:\n",
        "    - pytesseract\n",
        "    - easyocr\n",
        "    - keras_ocr\n",
        "3. Run on a few examples and compare the results"
      ],
      "metadata": {
        "id": "a2ejrUXGl5Y3"
      }
    },
    {
      "cell_type": "code",
      "source": [
        "annot = pd.read_parquet('../input/textocr-text-extraction-from-images-dataset/annot.parquet')\n",
        "imgs = pd.read_parquet('../input/textocr-text-extraction-from-images-dataset/img.parquet')\n",
        "img_fns = glob('../input/textocr-text-extraction-from-images-dataset/train_val_images/train_images/*')"
      ],
      "metadata": {
        "execution": {
          "iopub.status.busy": "2022-07-09T20:47:22.074214Z",
          "iopub.execute_input": "2022-07-09T20:47:22.075239Z",
          "iopub.status.idle": "2022-07-09T20:47:24.633272Z",
          "shell.execute_reply.started": "2022-07-09T20:47:22.075202Z",
          "shell.execute_reply": "2022-07-09T20:47:24.632312Z"
        },
        "trusted": true,
        "id": "CIfcouwrl5Y5"
      },
      "outputs": [],
      "execution_count": null
    },
    {
      "cell_type": "markdown",
      "source": [
        "# Plot Example Images"
      ],
      "metadata": {
        "id": "wfIx8IxLl5Y6"
      }
    },
    {
      "cell_type": "code",
      "source": [
        "fig, ax = plt.subplots(figsize=(10, 10))\n",
        "ax.imshow(plt.imread(img_fns[0]))\n",
        "ax.axis('off')\n",
        "plt.show()"
      ],
      "metadata": {
        "execution": {
          "iopub.status.busy": "2022-07-09T20:47:33.665398Z",
          "iopub.execute_input": "2022-07-09T20:47:33.666191Z",
          "iopub.status.idle": "2022-07-09T20:47:34.333104Z",
          "shell.execute_reply.started": "2022-07-09T20:47:33.66614Z",
          "shell.execute_reply": "2022-07-09T20:47:34.328816Z"
        },
        "trusted": true,
        "id": "pS-CjoXfl5Y6"
      },
      "outputs": [],
      "execution_count": null
    },
    {
      "cell_type": "code",
      "source": [
        "image_id = img_fns[0].split('/')[-1].split('.')[0]\n",
        "annot.query('image_id == @image_id')"
      ],
      "metadata": {
        "execution": {
          "iopub.status.busy": "2022-07-09T20:47:37.150633Z",
          "iopub.execute_input": "2022-07-09T20:47:37.151687Z",
          "iopub.status.idle": "2022-07-09T20:47:37.221445Z",
          "shell.execute_reply.started": "2022-07-09T20:47:37.151639Z",
          "shell.execute_reply": "2022-07-09T20:47:37.220352Z"
        },
        "trusted": true,
        "id": "_ewdwOhql5Y7"
      },
      "outputs": [],
      "execution_count": null
    },
    {
      "cell_type": "markdown",
      "source": [
        "## Display for first 25 images"
      ],
      "metadata": {
        "id": "H7m0bU1Wl5Y8"
      }
    },
    {
      "cell_type": "code",
      "source": [
        "fig, axs = plt.subplots(5, 5, figsize=(20, 20))\n",
        "axs = axs.flatten()\n",
        "for i in range(25):\n",
        "    axs[i].imshow(plt.imread(img_fns[i]))\n",
        "    axs[i].axis('off')\n",
        "    image_id = img_fns[i].split('/')[-1].rstrip('.jpg')\n",
        "    n_annot = len(annot.query('image_id == @image_id'))\n",
        "    axs[i].set_title(f'{image_id} - {n_annot}')\n",
        "plt.show()"
      ],
      "metadata": {
        "execution": {
          "iopub.status.busy": "2022-07-09T20:47:41.207754Z",
          "iopub.execute_input": "2022-07-09T20:47:41.208403Z",
          "iopub.status.idle": "2022-07-09T20:47:46.015172Z",
          "shell.execute_reply.started": "2022-07-09T20:47:41.208363Z",
          "shell.execute_reply": "2022-07-09T20:47:46.014231Z"
        },
        "trusted": true,
        "id": "PodKOasCl5Y8"
      },
      "outputs": [],
      "execution_count": null
    },
    {
      "cell_type": "markdown",
      "source": [
        "# Method 1: pytesseract"
      ],
      "metadata": {
        "id": "0LsndPb_l5Y9"
      }
    },
    {
      "cell_type": "code",
      "source": [
        "import pytesseract\n",
        "\n",
        "# Example call\n",
        "print(pytesseract.image_to_string(img_fns[11], lang='eng'))"
      ],
      "metadata": {
        "execution": {
          "iopub.status.busy": "2022-07-09T20:47:46.016864Z",
          "iopub.execute_input": "2022-07-09T20:47:46.017434Z",
          "iopub.status.idle": "2022-07-09T20:47:46.4895Z",
          "shell.execute_reply.started": "2022-07-09T20:47:46.017396Z",
          "shell.execute_reply": "2022-07-09T20:47:46.488269Z"
        },
        "trusted": true,
        "id": "7-POF8PCl5Y9"
      },
      "outputs": [],
      "execution_count": null
    },
    {
      "cell_type": "code",
      "source": [
        "fig, ax = plt.subplots(figsize=(10,10))\n",
        "ax.imshow(plt.imread(img_fns[11]))\n",
        "ax.axis('off')\n",
        "plt.show()"
      ],
      "metadata": {
        "execution": {
          "iopub.status.busy": "2022-07-09T20:47:50.24676Z",
          "iopub.execute_input": "2022-07-09T20:47:50.247405Z",
          "iopub.status.idle": "2022-07-09T20:47:50.598297Z",
          "shell.execute_reply.started": "2022-07-09T20:47:50.247365Z",
          "shell.execute_reply": "2022-07-09T20:47:50.59744Z"
        },
        "trusted": true,
        "id": "QFjFqDTLl5Y9"
      },
      "outputs": [],
      "execution_count": null
    },
    {
      "cell_type": "markdown",
      "source": [
        "# Method 2: easyocr"
      ],
      "metadata": {
        "id": "whyfw2tel5Y-"
      }
    },
    {
      "cell_type": "code",
      "source": [
        "import easyocr\n",
        "\n",
        "reader = easyocr.Reader(['en'], gpu = True)"
      ],
      "metadata": {
        "execution": {
          "iopub.status.busy": "2022-07-09T20:47:56.90158Z",
          "iopub.execute_input": "2022-07-09T20:47:56.902186Z",
          "iopub.status.idle": "2022-07-09T20:48:05.828372Z",
          "shell.execute_reply.started": "2022-07-09T20:47:56.902149Z",
          "shell.execute_reply": "2022-07-09T20:48:05.827386Z"
        },
        "trusted": true,
        "id": "M3DJksX6l5Y-"
      },
      "outputs": [],
      "execution_count": null
    },
    {
      "cell_type": "code",
      "source": [
        "results = reader.readtext(img_fns[11])"
      ],
      "metadata": {
        "execution": {
          "iopub.status.busy": "2022-07-09T20:48:42.391368Z",
          "iopub.execute_input": "2022-07-09T20:48:42.39178Z",
          "iopub.status.idle": "2022-07-09T20:48:47.972506Z",
          "shell.execute_reply.started": "2022-07-09T20:48:42.391746Z",
          "shell.execute_reply": "2022-07-09T20:48:47.971497Z"
        },
        "trusted": true,
        "id": "KhDFcMkgl5Y-"
      },
      "outputs": [],
      "execution_count": null
    },
    {
      "cell_type": "code",
      "source": [
        "pd.DataFrame(results, columns=['bbox','text','conf'])"
      ],
      "metadata": {
        "execution": {
          "iopub.status.busy": "2022-07-09T20:48:49.471338Z",
          "iopub.execute_input": "2022-07-09T20:48:49.47173Z",
          "iopub.status.idle": "2022-07-09T20:48:49.501072Z",
          "shell.execute_reply.started": "2022-07-09T20:48:49.471678Z",
          "shell.execute_reply": "2022-07-09T20:48:49.500234Z"
        },
        "trusted": true,
        "id": "aSlWeW21l5Y-"
      },
      "outputs": [],
      "execution_count": null
    },
    {
      "cell_type": "markdown",
      "source": [
        "# Method 3: keras_ocr"
      ],
      "metadata": {
        "id": "V_Kq3RkXl5Y-"
      }
    },
    {
      "cell_type": "code",
      "source": [
        "!pip install keras-ocr -q"
      ],
      "metadata": {
        "execution": {
          "iopub.status.busy": "2022-07-09T20:48:53.704522Z",
          "iopub.execute_input": "2022-07-09T20:48:53.705627Z",
          "iopub.status.idle": "2022-07-09T20:49:07.768404Z",
          "shell.execute_reply.started": "2022-07-09T20:48:53.705582Z",
          "shell.execute_reply": "2022-07-09T20:49:07.767276Z"
        },
        "trusted": true,
        "id": "HYPL-3fBl5Y_"
      },
      "outputs": [],
      "execution_count": null
    },
    {
      "cell_type": "code",
      "source": [
        "import keras_ocr\n",
        "\n",
        "pipeline = keras_ocr.pipeline.Pipeline()"
      ],
      "metadata": {
        "execution": {
          "iopub.status.busy": "2022-07-09T20:49:07.771407Z",
          "iopub.execute_input": "2022-07-09T20:49:07.77217Z",
          "iopub.status.idle": "2022-07-09T20:49:25.70696Z",
          "shell.execute_reply.started": "2022-07-09T20:49:07.772129Z",
          "shell.execute_reply": "2022-07-09T20:49:25.705968Z"
        },
        "trusted": true,
        "id": "TzOX7Kxbl5Y_"
      },
      "outputs": [],
      "execution_count": null
    },
    {
      "cell_type": "code",
      "source": [
        "results = pipeline.recognize([img_fns[11]])"
      ],
      "metadata": {
        "execution": {
          "iopub.status.busy": "2022-07-09T20:49:32.764763Z",
          "iopub.execute_input": "2022-07-09T20:49:32.765571Z",
          "iopub.status.idle": "2022-07-09T20:49:38.28606Z",
          "shell.execute_reply.started": "2022-07-09T20:49:32.765525Z",
          "shell.execute_reply": "2022-07-09T20:49:38.285001Z"
        },
        "trusted": true,
        "id": "Hhgo_zERl5Y_"
      },
      "outputs": [],
      "execution_count": null
    },
    {
      "cell_type": "code",
      "source": [
        "pd.DataFrame(results[0], columns=['text', 'bbox'])"
      ],
      "metadata": {
        "execution": {
          "iopub.status.busy": "2022-07-09T20:49:43.66412Z",
          "iopub.execute_input": "2022-07-09T20:49:43.664576Z",
          "iopub.status.idle": "2022-07-09T20:49:43.699957Z",
          "shell.execute_reply.started": "2022-07-09T20:49:43.66452Z",
          "shell.execute_reply": "2022-07-09T20:49:43.698932Z"
        },
        "trusted": true,
        "id": "HTQaOcndl5Y_"
      },
      "outputs": [],
      "execution_count": null
    },
    {
      "cell_type": "code",
      "source": [
        "fig, ax = plt.subplots(figsize=(10, 10))\n",
        "keras_ocr.tools.drawAnnotations(plt.imread(img_fns[11]), results[0], ax=ax)\n",
        "ax.set_title('Keras OCR Result Example')\n",
        "plt.show()"
      ],
      "metadata": {
        "execution": {
          "iopub.status.busy": "2022-07-09T20:49:47.139664Z",
          "iopub.execute_input": "2022-07-09T20:49:47.140019Z",
          "iopub.status.idle": "2022-07-09T20:49:47.840115Z",
          "shell.execute_reply.started": "2022-07-09T20:49:47.139992Z",
          "shell.execute_reply": "2022-07-09T20:49:47.838267Z"
        },
        "trusted": true,
        "id": "PrdSu51pl5Y_"
      },
      "outputs": [],
      "execution_count": null
    },
    {
      "cell_type": "markdown",
      "source": [
        "# Compare easyocr vs. keras_ocr"
      ],
      "metadata": {
        "id": "SzJeVaF2l5Y_"
      }
    },
    {
      "cell_type": "code",
      "source": [
        "# easyocr\n",
        "reader = easyocr.Reader(['en'], gpu = True)\n",
        "\n",
        "dfs = []\n",
        "for img in tqdm(img_fns[:25]):\n",
        "    result = reader.readtext(img)\n",
        "    img_id = img.split('/')[-1].split('.')[0]\n",
        "    img_df = pd.DataFrame(result, columns=['bbox','text','conf'])\n",
        "    img_df['img_id'] = img_id\n",
        "    dfs.append(img_df)\n",
        "easyocr_df = pd.concat(dfs)"
      ],
      "metadata": {
        "execution": {
          "iopub.status.busy": "2022-07-09T20:50:04.952364Z",
          "iopub.execute_input": "2022-07-09T20:50:04.952728Z",
          "iopub.status.idle": "2022-07-09T20:50:13.534974Z",
          "shell.execute_reply.started": "2022-07-09T20:50:04.952697Z",
          "shell.execute_reply": "2022-07-09T20:50:13.534081Z"
        },
        "trusted": true,
        "id": "EM7-TKkLl5ZA"
      },
      "outputs": [],
      "execution_count": null
    },
    {
      "cell_type": "code",
      "source": [
        "# keras_ocr\n",
        "pipeline = keras_ocr.pipeline.Pipeline()\n",
        "\n",
        "dfs = []\n",
        "for img in tqdm(img_fns[:25]):\n",
        "    results = pipeline.recognize([img])\n",
        "    result = results[0]\n",
        "    img_id = img.split('/')[-1].split('.')[0]\n",
        "    img_df = pd.DataFrame(result, columns=['text', 'bbox'])\n",
        "    img_df['img_id'] = img_id\n",
        "    dfs.append(img_df)\n",
        "kerasocr_df = pd.concat(dfs)"
      ],
      "metadata": {
        "execution": {
          "iopub.status.busy": "2022-07-09T20:50:26.947703Z",
          "iopub.execute_input": "2022-07-09T20:50:26.948338Z",
          "iopub.status.idle": "2022-07-09T20:51:34.500472Z",
          "shell.execute_reply.started": "2022-07-09T20:50:26.9483Z",
          "shell.execute_reply": "2022-07-09T20:51:34.499521Z"
        },
        "trusted": true,
        "id": "24xSUUirl5ZA"
      },
      "outputs": [],
      "execution_count": null
    },
    {
      "cell_type": "markdown",
      "source": [
        "# Plot Results: easyocr vs keras_ocr"
      ],
      "metadata": {
        "id": "tAAPgjXgl5ZA"
      }
    },
    {
      "cell_type": "code",
      "source": [
        "def plot_compare(img_fn, easyocr_df, kerasocr_df):\n",
        "    img_id = img_fn.split('/')[-1].split('.')[0]\n",
        "    fig, axs = plt.subplots(1, 2, figsize=(15, 10))\n",
        "\n",
        "    easy_results = easyocr_df.query('img_id == @img_id')[['text','bbox']].values.tolist()\n",
        "    easy_results = [(x[0], np.array(x[1])) for x in easy_results]\n",
        "    keras_ocr.tools.drawAnnotations(plt.imread(img_fn),\n",
        "                                    easy_results, ax=axs[0])\n",
        "    axs[0].set_title('easyocr results', fontsize=24)\n",
        "\n",
        "    keras_results = kerasocr_df.query('img_id == @img_id')[['text','bbox']].values.tolist()\n",
        "    keras_results = [(x[0], np.array(x[1])) for x in keras_results]\n",
        "    keras_ocr.tools.drawAnnotations(plt.imread(img_fn),\n",
        "                                    keras_results, ax=axs[1])\n",
        "    axs[1].set_title('keras_ocr results', fontsize=24)\n",
        "    plt.show()"
      ],
      "metadata": {
        "execution": {
          "iopub.status.busy": "2022-07-09T20:59:22.632451Z",
          "iopub.execute_input": "2022-07-09T20:59:22.633411Z",
          "iopub.status.idle": "2022-07-09T20:59:22.643189Z",
          "shell.execute_reply.started": "2022-07-09T20:59:22.633359Z",
          "shell.execute_reply": "2022-07-09T20:59:22.641754Z"
        },
        "trusted": true,
        "id": "E2trjxgrl5ZA"
      },
      "outputs": [],
      "execution_count": null
    },
    {
      "cell_type": "code",
      "source": [
        "# Loop over results\n",
        "for img_fn in img_fns[:25]:\n",
        "    plot_compare(img_fn, easyocr_df, kerasocr_df)"
      ],
      "metadata": {
        "execution": {
          "iopub.status.busy": "2022-07-09T21:00:04.676426Z",
          "iopub.execute_input": "2022-07-09T21:00:04.677042Z",
          "iopub.status.idle": "2022-07-09T21:00:39.307109Z",
          "shell.execute_reply.started": "2022-07-09T21:00:04.677005Z",
          "shell.execute_reply": "2022-07-09T21:00:39.304364Z"
        },
        "trusted": true,
        "id": "-7oy2uHzl5ZA"
      },
      "outputs": [],
      "execution_count": null
    },
    {
      "cell_type": "markdown",
      "source": [
        "# The End"
      ],
      "metadata": {
        "id": "ao1gi7tMl5ZB"
      }
    },
    {
      "cell_type": "code",
      "source": [],
      "metadata": {
        "id": "6cSoKsyVl5ZB"
      },
      "outputs": [],
      "execution_count": null
    }
  ]
}